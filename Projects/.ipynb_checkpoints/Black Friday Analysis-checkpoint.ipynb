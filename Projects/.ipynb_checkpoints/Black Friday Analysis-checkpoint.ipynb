{
 "cells": [
  {
   "cell_type": "code",
   "execution_count": 2,
   "id": "33c4cf26-12dc-4593-8af9-c211e2e75e37",
   "metadata": {},
   "outputs": [],
   "source": [
    "import pandas as pd"
   ]
  },
  {
   "cell_type": "code",
   "execution_count": 3,
   "id": "26a5a5f3-5174-4605-a60c-ded05efc8fba",
   "metadata": {},
   "outputs": [],
   "source": [
    "df = pd.read_csv('BlackFriday.csv')"
   ]
  },
  {
   "cell_type": "code",
   "execution_count": 4,
   "id": "fa9589a8-1d4c-4926-bb7b-299684fa87ea",
   "metadata": {},
   "outputs": [
    {
     "data": {
      "text/html": [
       "<div>\n",
       "<style scoped>\n",
       "    .dataframe tbody tr th:only-of-type {\n",
       "        vertical-align: middle;\n",
       "    }\n",
       "\n",
       "    .dataframe tbody tr th {\n",
       "        vertical-align: top;\n",
       "    }\n",
       "\n",
       "    .dataframe thead th {\n",
       "        text-align: right;\n",
       "    }\n",
       "</style>\n",
       "<table border=\"1\" class=\"dataframe\">\n",
       "  <thead>\n",
       "    <tr style=\"text-align: right;\">\n",
       "      <th></th>\n",
       "      <th>User_ID</th>\n",
       "      <th>Product_ID</th>\n",
       "      <th>Gender</th>\n",
       "      <th>Age</th>\n",
       "      <th>Occupation</th>\n",
       "      <th>City_Category</th>\n",
       "      <th>Stay_In_Current_City_Years</th>\n",
       "      <th>Marital_Status</th>\n",
       "      <th>Product_Category_1</th>\n",
       "      <th>Product_Category_2</th>\n",
       "      <th>Product_Category_3</th>\n",
       "      <th>Purchase</th>\n",
       "    </tr>\n",
       "  </thead>\n",
       "  <tbody>\n",
       "    <tr>\n",
       "      <th>0</th>\n",
       "      <td>1000001</td>\n",
       "      <td>P00069042</td>\n",
       "      <td>F</td>\n",
       "      <td>0-17</td>\n",
       "      <td>10</td>\n",
       "      <td>A</td>\n",
       "      <td>2</td>\n",
       "      <td>0</td>\n",
       "      <td>3</td>\n",
       "      <td>NaN</td>\n",
       "      <td>NaN</td>\n",
       "      <td>8370</td>\n",
       "    </tr>\n",
       "    <tr>\n",
       "      <th>1</th>\n",
       "      <td>1000001</td>\n",
       "      <td>P00248942</td>\n",
       "      <td>F</td>\n",
       "      <td>0-17</td>\n",
       "      <td>10</td>\n",
       "      <td>A</td>\n",
       "      <td>2</td>\n",
       "      <td>0</td>\n",
       "      <td>1</td>\n",
       "      <td>6.0</td>\n",
       "      <td>14.0</td>\n",
       "      <td>15200</td>\n",
       "    </tr>\n",
       "    <tr>\n",
       "      <th>2</th>\n",
       "      <td>1000001</td>\n",
       "      <td>P00087842</td>\n",
       "      <td>F</td>\n",
       "      <td>0-17</td>\n",
       "      <td>10</td>\n",
       "      <td>A</td>\n",
       "      <td>2</td>\n",
       "      <td>0</td>\n",
       "      <td>12</td>\n",
       "      <td>NaN</td>\n",
       "      <td>NaN</td>\n",
       "      <td>1422</td>\n",
       "    </tr>\n",
       "    <tr>\n",
       "      <th>3</th>\n",
       "      <td>1000001</td>\n",
       "      <td>P00085442</td>\n",
       "      <td>F</td>\n",
       "      <td>0-17</td>\n",
       "      <td>10</td>\n",
       "      <td>A</td>\n",
       "      <td>2</td>\n",
       "      <td>0</td>\n",
       "      <td>12</td>\n",
       "      <td>14.0</td>\n",
       "      <td>NaN</td>\n",
       "      <td>1057</td>\n",
       "    </tr>\n",
       "    <tr>\n",
       "      <th>4</th>\n",
       "      <td>1000002</td>\n",
       "      <td>P00285442</td>\n",
       "      <td>M</td>\n",
       "      <td>55+</td>\n",
       "      <td>16</td>\n",
       "      <td>C</td>\n",
       "      <td>4+</td>\n",
       "      <td>0</td>\n",
       "      <td>8</td>\n",
       "      <td>NaN</td>\n",
       "      <td>NaN</td>\n",
       "      <td>7969</td>\n",
       "    </tr>\n",
       "  </tbody>\n",
       "</table>\n",
       "</div>"
      ],
      "text/plain": [
       "   User_ID Product_ID Gender   Age  Occupation City_Category  \\\n",
       "0  1000001  P00069042      F  0-17          10             A   \n",
       "1  1000001  P00248942      F  0-17          10             A   \n",
       "2  1000001  P00087842      F  0-17          10             A   \n",
       "3  1000001  P00085442      F  0-17          10             A   \n",
       "4  1000002  P00285442      M   55+          16             C   \n",
       "\n",
       "  Stay_In_Current_City_Years  Marital_Status  Product_Category_1  \\\n",
       "0                          2               0                   3   \n",
       "1                          2               0                   1   \n",
       "2                          2               0                  12   \n",
       "3                          2               0                  12   \n",
       "4                         4+               0                   8   \n",
       "\n",
       "   Product_Category_2  Product_Category_3  Purchase  \n",
       "0                 NaN                 NaN      8370  \n",
       "1                 6.0                14.0     15200  \n",
       "2                 NaN                 NaN      1422  \n",
       "3                14.0                 NaN      1057  \n",
       "4                 NaN                 NaN      7969  "
      ]
     },
     "execution_count": 4,
     "metadata": {},
     "output_type": "execute_result"
    }
   ],
   "source": [
    "df.head()"
   ]
  },
  {
   "cell_type": "code",
   "execution_count": 5,
   "id": "6a587a42-4922-4f74-83e5-b5b08a3dbf9a",
   "metadata": {},
   "outputs": [
    {
     "name": "stdout",
     "output_type": "stream",
     "text": [
      "<class 'pandas.core.frame.DataFrame'>\n",
      "RangeIndex: 537577 entries, 0 to 537576\n",
      "Data columns (total 12 columns):\n",
      " #   Column                      Non-Null Count   Dtype  \n",
      "---  ------                      --------------   -----  \n",
      " 0   User_ID                     537577 non-null  int64  \n",
      " 1   Product_ID                  537577 non-null  object \n",
      " 2   Gender                      537577 non-null  object \n",
      " 3   Age                         537577 non-null  object \n",
      " 4   Occupation                  537577 non-null  int64  \n",
      " 5   City_Category               537577 non-null  object \n",
      " 6   Stay_In_Current_City_Years  537577 non-null  object \n",
      " 7   Marital_Status              537577 non-null  int64  \n",
      " 8   Product_Category_1          537577 non-null  int64  \n",
      " 9   Product_Category_2          370591 non-null  float64\n",
      " 10  Product_Category_3          164278 non-null  float64\n",
      " 11  Purchase                    537577 non-null  int64  \n",
      "dtypes: float64(2), int64(5), object(5)\n",
      "memory usage: 49.2+ MB\n"
     ]
    }
   ],
   "source": [
    "df.info()"
   ]
  },
  {
   "cell_type": "code",
   "execution_count": 6,
   "id": "9863072e-9262-4f4d-958f-f0d598ebb070",
   "metadata": {},
   "outputs": [
    {
     "data": {
      "text/plain": [
       "User_ID                            0\n",
       "Product_ID                         0\n",
       "Gender                             0\n",
       "Age                                0\n",
       "Occupation                         0\n",
       "City_Category                      0\n",
       "Stay_In_Current_City_Years         0\n",
       "Marital_Status                     0\n",
       "Product_Category_1                 0\n",
       "Product_Category_2            166986\n",
       "Product_Category_3            373299\n",
       "Purchase                           0\n",
       "dtype: int64"
      ]
     },
     "execution_count": 6,
     "metadata": {},
     "output_type": "execute_result"
    }
   ],
   "source": [
    "df.isnull().sum()"
   ]
  },
  {
   "cell_type": "code",
   "execution_count": 7,
   "id": "cecae65f-739f-4fe1-add7-42f31636a8b2",
   "metadata": {},
   "outputs": [],
   "source": [
    "del df['Product_Category_2']\n",
    "del df['Product_Category_3']"
   ]
  },
  {
   "cell_type": "code",
   "execution_count": 8,
   "id": "f4b2a0a1-dcfc-4d39-a519-da2b8b70b102",
   "metadata": {},
   "outputs": [
    {
     "data": {
      "text/html": [
       "<div>\n",
       "<style scoped>\n",
       "    .dataframe tbody tr th:only-of-type {\n",
       "        vertical-align: middle;\n",
       "    }\n",
       "\n",
       "    .dataframe tbody tr th {\n",
       "        vertical-align: top;\n",
       "    }\n",
       "\n",
       "    .dataframe thead th {\n",
       "        text-align: right;\n",
       "    }\n",
       "</style>\n",
       "<table border=\"1\" class=\"dataframe\">\n",
       "  <thead>\n",
       "    <tr style=\"text-align: right;\">\n",
       "      <th></th>\n",
       "      <th>User_ID</th>\n",
       "      <th>Product_ID</th>\n",
       "      <th>Gender</th>\n",
       "      <th>Age</th>\n",
       "      <th>Occupation</th>\n",
       "      <th>City_Category</th>\n",
       "      <th>Stay_In_Current_City_Years</th>\n",
       "      <th>Marital_Status</th>\n",
       "      <th>Product_Category_1</th>\n",
       "      <th>Purchase</th>\n",
       "    </tr>\n",
       "  </thead>\n",
       "  <tbody>\n",
       "    <tr>\n",
       "      <th>0</th>\n",
       "      <td>1000001</td>\n",
       "      <td>P00069042</td>\n",
       "      <td>F</td>\n",
       "      <td>0-17</td>\n",
       "      <td>10</td>\n",
       "      <td>A</td>\n",
       "      <td>2</td>\n",
       "      <td>0</td>\n",
       "      <td>3</td>\n",
       "      <td>8370</td>\n",
       "    </tr>\n",
       "    <tr>\n",
       "      <th>1</th>\n",
       "      <td>1000001</td>\n",
       "      <td>P00248942</td>\n",
       "      <td>F</td>\n",
       "      <td>0-17</td>\n",
       "      <td>10</td>\n",
       "      <td>A</td>\n",
       "      <td>2</td>\n",
       "      <td>0</td>\n",
       "      <td>1</td>\n",
       "      <td>15200</td>\n",
       "    </tr>\n",
       "    <tr>\n",
       "      <th>2</th>\n",
       "      <td>1000001</td>\n",
       "      <td>P00087842</td>\n",
       "      <td>F</td>\n",
       "      <td>0-17</td>\n",
       "      <td>10</td>\n",
       "      <td>A</td>\n",
       "      <td>2</td>\n",
       "      <td>0</td>\n",
       "      <td>12</td>\n",
       "      <td>1422</td>\n",
       "    </tr>\n",
       "    <tr>\n",
       "      <th>3</th>\n",
       "      <td>1000001</td>\n",
       "      <td>P00085442</td>\n",
       "      <td>F</td>\n",
       "      <td>0-17</td>\n",
       "      <td>10</td>\n",
       "      <td>A</td>\n",
       "      <td>2</td>\n",
       "      <td>0</td>\n",
       "      <td>12</td>\n",
       "      <td>1057</td>\n",
       "    </tr>\n",
       "    <tr>\n",
       "      <th>4</th>\n",
       "      <td>1000002</td>\n",
       "      <td>P00285442</td>\n",
       "      <td>M</td>\n",
       "      <td>55+</td>\n",
       "      <td>16</td>\n",
       "      <td>C</td>\n",
       "      <td>4+</td>\n",
       "      <td>0</td>\n",
       "      <td>8</td>\n",
       "      <td>7969</td>\n",
       "    </tr>\n",
       "  </tbody>\n",
       "</table>\n",
       "</div>"
      ],
      "text/plain": [
       "   User_ID Product_ID Gender   Age  Occupation City_Category  \\\n",
       "0  1000001  P00069042      F  0-17          10             A   \n",
       "1  1000001  P00248942      F  0-17          10             A   \n",
       "2  1000001  P00087842      F  0-17          10             A   \n",
       "3  1000001  P00085442      F  0-17          10             A   \n",
       "4  1000002  P00285442      M   55+          16             C   \n",
       "\n",
       "  Stay_In_Current_City_Years  Marital_Status  Product_Category_1  Purchase  \n",
       "0                          2               0                   3      8370  \n",
       "1                          2               0                   1     15200  \n",
       "2                          2               0                  12      1422  \n",
       "3                          2               0                  12      1057  \n",
       "4                         4+               0                   8      7969  "
      ]
     },
     "execution_count": 8,
     "metadata": {},
     "output_type": "execute_result"
    }
   ],
   "source": [
    "df.head()"
   ]
  },
  {
   "cell_type": "markdown",
   "id": "df144dd1-e558-4c14-8b5d-5b812c1cf6b0",
   "metadata": {},
   "source": [
    "## Analyzing Columns"
   ]
  },
  {
   "cell_type": "code",
   "execution_count": 9,
   "id": "06366227-83cf-405c-a7df-6ef6839d52c9",
   "metadata": {},
   "outputs": [
    {
     "data": {
      "text/plain": [
       "5891"
      ]
     },
     "execution_count": 9,
     "metadata": {},
     "output_type": "execute_result"
    }
   ],
   "source": [
    "df['User_ID'].nunique()"
   ]
  },
  {
   "cell_type": "code",
   "execution_count": 10,
   "id": "c22a8268-6089-40cc-9141-4f0fffea53e7",
   "metadata": {},
   "outputs": [
    {
     "data": {
      "text/plain": [
       "array([1000001, 1000002, 1000003, ..., 1004113, 1005391, 1001529],\n",
       "      dtype=int64)"
      ]
     },
     "execution_count": 10,
     "metadata": {},
     "output_type": "execute_result"
    }
   ],
   "source": [
    "df['User_ID'].unique()"
   ]
  },
  {
   "cell_type": "code",
   "execution_count": 11,
   "id": "54d13b09-3193-4a19-b0cc-afc92a20b7c4",
   "metadata": {},
   "outputs": [
    {
     "data": {
      "text/plain": [
       "3623"
      ]
     },
     "execution_count": 11,
     "metadata": {},
     "output_type": "execute_result"
    }
   ],
   "source": [
    "df['Product_ID'].nunique()"
   ]
  },
  {
   "cell_type": "code",
   "execution_count": 12,
   "id": "3c81e27f-c88f-4fa0-b274-27459bf96e5e",
   "metadata": {},
   "outputs": [
    {
     "data": {
      "text/plain": [
       "array(['F', 'M'], dtype=object)"
      ]
     },
     "execution_count": 12,
     "metadata": {},
     "output_type": "execute_result"
    }
   ],
   "source": [
    "df['Gender'].unique()"
   ]
  },
  {
   "cell_type": "code",
   "execution_count": 13,
   "id": "9974f8bc-233e-4725-bb5e-152e6b9a4c09",
   "metadata": {},
   "outputs": [
    {
     "data": {
      "text/plain": [
       "array(['0-17', '55+', '26-35', '46-50', '51-55', '36-45', '18-25'],\n",
       "      dtype=object)"
      ]
     },
     "execution_count": 13,
     "metadata": {},
     "output_type": "execute_result"
    }
   ],
   "source": [
    "df['Age'].unique()"
   ]
  },
  {
   "cell_type": "code",
   "execution_count": 14,
   "id": "9cc1f275-9d13-4ae8-b5dc-b973b0de9ef5",
   "metadata": {},
   "outputs": [
    {
     "name": "stdout",
     "output_type": "stream",
     "text": [
      "User_ID 5891\n",
      "Product_ID 3623\n",
      "Gender 2\n",
      "Age 7\n",
      "Occupation 21\n",
      "City_Category 3\n",
      "Stay_In_Current_City_Years 5\n",
      "Marital_Status 2\n",
      "Product_Category_1 18\n",
      "Purchase 17959\n"
     ]
    }
   ],
   "source": [
    "for column in df.columns:\n",
    "    print(column, df[column].nunique())"
   ]
  },
  {
   "cell_type": "markdown",
   "id": "782f41ce-7c36-44f6-ad89-3c7c3ff2cbfc",
   "metadata": {},
   "source": [
    "## Analyzing Gender"
   ]
  },
  {
   "cell_type": "code",
   "execution_count": 15,
   "id": "ec7e51b0-5dc6-45cb-9263-9efbef22571c",
   "metadata": {},
   "outputs": [
    {
     "data": {
      "text/plain": [
       "(405380, 132197)"
      ]
     },
     "execution_count": 15,
     "metadata": {},
     "output_type": "execute_result"
    }
   ],
   "source": [
    "len(df[df['Gender'] == 'M']), len(df[df['Gender'] == 'F'])"
   ]
  },
  {
   "cell_type": "code",
   "execution_count": 16,
   "id": "19afb916-1723-46a9-975d-f28e706ab2bf",
   "metadata": {},
   "outputs": [],
   "source": [
    "data = pd.DataFrame({'Ratio' : [len(df[df['Gender'] == 'M']), len(df[df['Gender'] == 'F'])]}, index = ['Male', 'Female'])"
   ]
  },
  {
   "cell_type": "code",
   "execution_count": 17,
   "id": "da164fd4-e9ff-47c5-9bd6-d8540b7b55e1",
   "metadata": {},
   "outputs": [
    {
     "data": {
      "text/html": [
       "<div>\n",
       "<style scoped>\n",
       "    .dataframe tbody tr th:only-of-type {\n",
       "        vertical-align: middle;\n",
       "    }\n",
       "\n",
       "    .dataframe tbody tr th {\n",
       "        vertical-align: top;\n",
       "    }\n",
       "\n",
       "    .dataframe thead th {\n",
       "        text-align: right;\n",
       "    }\n",
       "</style>\n",
       "<table border=\"1\" class=\"dataframe\">\n",
       "  <thead>\n",
       "    <tr style=\"text-align: right;\">\n",
       "      <th></th>\n",
       "      <th>Ratio</th>\n",
       "    </tr>\n",
       "  </thead>\n",
       "  <tbody>\n",
       "    <tr>\n",
       "      <th>Male</th>\n",
       "      <td>405380</td>\n",
       "    </tr>\n",
       "    <tr>\n",
       "      <th>Female</th>\n",
       "      <td>132197</td>\n",
       "    </tr>\n",
       "  </tbody>\n",
       "</table>\n",
       "</div>"
      ],
      "text/plain": [
       "         Ratio\n",
       "Male    405380\n",
       "Female  132197"
      ]
     },
     "execution_count": 17,
     "metadata": {},
     "output_type": "execute_result"
    }
   ],
   "source": [
    "data"
   ]
  },
  {
   "cell_type": "code",
   "execution_count": 18,
   "id": "8ba39789-f02a-4cbf-9a7c-63f071e07b84",
   "metadata": {},
   "outputs": [
    {
     "data": {
      "text/plain": [
       "<Axes: ylabel='Ratio'>"
      ]
     },
     "execution_count": 18,
     "metadata": {},
     "output_type": "execute_result"
    },
    {
     "data": {
      "image/png": "[encoded data removed]",
      "text/plain": [
       "<Figure size 600x600 with 1 Axes>"
      ]
     },
     "metadata": {},
     "output_type": "display_data"
    }
   ],
   "source": [
    "data.plot.pie(y = 'Ratio', figsize = (6,6), autopct = '%.2f')"
   ]
  },
  {
   "cell_type": "markdown",
   "id": "f94c3d55-c63f-40ef-be32-ba431871ba3f",
   "metadata": {},
   "source": [
    "#### Another Approach"
   ]
  },
  {
   "cell_type": "code",
   "execution_count": 19,
   "id": "bbf1e746-bd22-4364-9987-68c81e36cb51",
   "metadata": {},
   "outputs": [
    {
     "data": {
      "text/plain": [
       "Gender\n",
       "F    132197\n",
       "M    405380\n",
       "dtype: int64"
      ]
     },
     "execution_count": 19,
     "metadata": {},
     "output_type": "execute_result"
    }
   ],
   "source": [
    "df.groupby('Gender').size()"
   ]
  },
  {
   "cell_type": "code",
   "execution_count": 20,
   "id": "55b60ced-5694-47d5-ae81-b77a6e5cd994",
   "metadata": {},
   "outputs": [
    {
     "data": {
      "text/plain": [
       "<Axes: title={'center': 'Gender Ratio'}>"
      ]
     },
     "execution_count": 20,
     "metadata": {},
     "output_type": "execute_result"
    },
    {
     "data": {
      "image/png": "[encoded data removed]",
      "text/plain": [
       "<Figure size 600x600 with 1 Axes>"
      ]
     },
     "metadata": {},
     "output_type": "display_data"
    }
   ],
   "source": [
    "df.groupby('Gender').size().plot(kind = 'pie', autopct = '%.2f', title = 'Gender Ratio', figsize = (6,6))"
   ]
  },
  {
   "cell_type": "code",
   "execution_count": 21,
   "id": "017538cd-e508-4d4b-b962-47361227e7ad",
   "metadata": {},
   "outputs": [
    {
     "data": {
      "text/plain": [
       "<Axes: xlabel='Gender'>"
      ]
     },
     "execution_count": 21,
     "metadata": {},
     "output_type": "execute_result"
    },
    {
     "data": {
      "image/png": "[encoded data removed]",
      "text/plain": [
       "<Figure size 600x600 with 1 Axes>"
      ]
     },
     "metadata": {},
     "output_type": "display_data"
    }
   ],
   "source": [
    "df.groupby('Gender').size().plot(kind = 'bar', figsize = (6,6))"
   ]
  },
  {
   "cell_type": "code",
   "execution_count": 22,
   "id": "4cb36ee9-faf6-4eaa-bbc4-439117469eee",
   "metadata": {},
   "outputs": [
    {
     "data": {
      "text/plain": [
       "Gender\n",
       "F    1164624021\n",
       "M    3853044357\n",
       "Name: Purchase, dtype: int64"
      ]
     },
     "execution_count": 22,
     "metadata": {},
     "output_type": "execute_result"
    }
   ],
   "source": [
    "df.groupby('Gender').sum()['Purchase']"
   ]
  },
  {
   "cell_type": "code",
   "execution_count": 23,
   "id": "96027089-1b45-4843-a9d5-9dd283fbe466",
   "metadata": {},
   "outputs": [
    {
     "data": {
      "text/plain": [
       "<Axes: ylabel='Purchase'>"
      ]
     },
     "execution_count": 23,
     "metadata": {},
     "output_type": "execute_result"
    },
    {
     "data": {
      "image/png": "[encoded data removed]",
      "text/plain": [
       "<Figure size 640x480 with 1 Axes>"
      ]
     },
     "metadata": {},
     "output_type": "display_data"
    }
   ],
   "source": [
    "df.groupby('Gender').sum()['Purchase'].plot(kind = 'pie', autopct = '%.1f')"
   ]
  },
  {
   "cell_type": "markdown",
   "id": "a7b4f926-17b2-4135-991d-0aea937e6949",
   "metadata": {},
   "source": [
    "## Analyzing Age"
   ]
  },
  {
   "cell_type": "code",
   "execution_count": 25,
   "id": "d9026f6f-8625-4dc2-8c4c-e7f2902126af",
   "metadata": {},
   "outputs": [
    {
     "data": {
      "text/plain": [
       "Age\n",
       "0-17      14707\n",
       "18-25     97634\n",
       "26-35    214690\n",
       "36-45    107499\n",
       "46-50     44526\n",
       "51-55     37618\n",
       "55+       20903\n",
       "dtype: int64"
      ]
     },
     "execution_count": 25,
     "metadata": {},
     "output_type": "execute_result"
    }
   ],
   "source": [
    "df.groupby('Age').size()"
   ]
  },
  {
   "cell_type": "code",
   "execution_count": 26,
   "id": "5f3ded3d-8f77-40a4-85bc-2aa4475acf01",
   "metadata": {},
   "outputs": [
    {
     "data": {
      "text/plain": [
       "<Axes: title={'center': 'Purchase Distribution by Age'}, xlabel='Age'>"
      ]
     },
     "execution_count": 26,
     "metadata": {},
     "output_type": "execute_result"
    },
    {
     "data": {
      "image/png": "[encoded data removed]",
      "text/plain": [
       "<Figure size 1200x600 with 1 Axes>"
      ]
     },
     "metadata": {},
     "output_type": "display_data"
    }
   ],
   "source": [
    "df.groupby('Age').size().plot(kind = 'bar', figsize = (12,6), title = 'Purchase Distribution by Age')"
   ]
  },
  {
   "cell_type": "markdown",
   "id": "7fe579bd-35e4-41de-92cf-60b75e1dc1e5",
   "metadata": {},
   "source": [
    "## Multi Column Analysis"
   ]
  },
  {
   "cell_type": "code",
   "execution_count": 27,
   "id": "8ab5b66c-1472-4943-b9bb-09c6e095fc51",
   "metadata": {},
   "outputs": [],
   "source": [
    "import seaborn as sns"
   ]
  },
  {
   "cell_type": "code",
   "execution_count": 28,
   "id": "a2ac40f6-8387-40f8-8255-cfb628a04f3e",
   "metadata": {},
   "outputs": [
    {
     "data": {
      "text/plain": [
       "<Axes: xlabel='Age', ylabel='count'>"
      ]
     },
     "execution_count": 28,
     "metadata": {},
     "output_type": "execute_result"
    },
    {
     "data": {
      "image/png": "[encoded data removed]",
      "text/plain": [
       "<Figure size 1200x600 with 1 Axes>"
      ]
     },
     "metadata": {},
     "output_type": "display_data"
    }
   ],
   "source": [
    "sns.set(rc = {'figure.figsize' : (12,6)})\n",
    "sns.countplot( x = 'Age', hue = 'Gender', data = df)"
   ]
  },
  {
   "cell_type": "code",
   "execution_count": 29,
   "id": "08c34ce3-9307-4e6b-82b9-1832c4579c87",
   "metadata": {},
   "outputs": [
    {
     "data": {
      "text/plain": [
       "<Axes: xlabel='Gender', ylabel='count'>"
      ]
     },
     "execution_count": 29,
     "metadata": {},
     "output_type": "execute_result"
    },
    {
     "data": {
      "image/png": "[encoded data removed]",
      "text/plain": [
       "<Figure size 600x600 with 1 Axes>"
      ]
     },
     "metadata": {},
     "output_type": "display_data"
    }
   ],
   "source": [
    "sns.set(rc = {'figure.figsize' : (6,6)})\n",
    "sns.countplot( x = 'Gender', hue = 'Marital_Status', data = df)"
   ]
  },
  {
   "cell_type": "code",
   "execution_count": 30,
   "id": "c3217b9b-2da8-43c1-a937-09fbc448d779",
   "metadata": {},
   "outputs": [
    {
     "data": {
      "text/plain": [
       "<Axes: xlabel='City_Category', ylabel='count'>"
      ]
     },
     "execution_count": 30,
     "metadata": {},
     "output_type": "execute_result"
    },
    {
     "data": {
      "image/png": "[encoded data removed]",
      "text/plain": [
       "<Figure size 600x600 with 1 Axes>"
      ]
     },
     "metadata": {},
     "output_type": "display_data"
    }
   ],
   "source": [
    "sns.countplot(x = df['City_Category'])"
   ]
  },
  {
   "cell_type": "code",
   "execution_count": 31,
   "id": "7f52e425-b805-4545-965a-e601c20dc4c9",
   "metadata": {},
   "outputs": [
    {
     "data": {
      "text/plain": [
       "<Axes: >"
      ]
     },
     "execution_count": 31,
     "metadata": {},
     "output_type": "execute_result"
    },
    {
     "data": {
      "image/png": "[encoded data removed]",
      "text/plain": [
       "<Figure size 600x600 with 1 Axes>"
      ]
     },
     "metadata": {},
     "output_type": "display_data"
    }
   ],
   "source": [
    "df.groupby('City_Category').size().plot(kind = 'pie', autopct = '%.1f')"
   ]
  },
  {
   "cell_type": "markdown",
   "id": "8bdfaa67-3fcb-4cc2-986d-0575a6b2183e",
   "metadata": {},
   "source": [
    "## Occupation and Product Analysis"
   ]
  },
  {
   "cell_type": "code",
   "execution_count": 32,
   "id": "4e937a7b-e4af-42f1-bad9-e2486d9521d5",
   "metadata": {},
   "outputs": [
    {
     "data": {
      "text/plain": [
       "<Axes: xlabel='Stay_In_Current_City_Years', ylabel='count'>"
      ]
     },
     "execution_count": 32,
     "metadata": {},
     "output_type": "execute_result"
    },
    {
     "data": {
      "image/png": "[encoded data removed]",
      "text/plain": [
       "<Figure size 600x600 with 1 Axes>"
      ]
     },
     "metadata": {},
     "output_type": "display_data"
    }
   ],
   "source": [
    "sns.countplot (x = df['Stay_In_Current_City_Years'])"
   ]
  },
  {
   "cell_type": "code",
   "execution_count": 33,
   "id": "9aabe411-bd01-43a7-a2d9-a6de21df5b19",
   "metadata": {},
   "outputs": [
    {
     "data": {
      "text/plain": [
       "<Axes: xlabel='Stay_In_Current_City_Years', ylabel='count'>"
      ]
     },
     "execution_count": 33,
     "metadata": {},
     "output_type": "execute_result"
    },
    {
     "data": {
      "image/png": "[encoded data removed]",
      "text/plain": [
       "<Figure size 600x600 with 1 Axes>"
      ]
     },
     "metadata": {},
     "output_type": "display_data"
    }
   ],
   "source": [
    "sns.countplot (x = 'Stay_In_Current_City_Years', hue = 'Gender', data = df)\n",
    "# Therefore Target for males with 1 year of EXP"
   ]
  },
  {
   "cell_type": "code",
   "execution_count": 35,
   "id": "c033fcc4-a17a-4cf4-af17-14325574cb3a",
   "metadata": {},
   "outputs": [
    {
     "data": {
      "text/plain": [
       "<Axes: xlabel='Stay_In_Current_City_Years', ylabel='count'>"
      ]
     },
     "execution_count": 35,
     "metadata": {},
     "output_type": "execute_result"
    },
    {
     "data": {
      "image/png": "[encoded data removed]",
      "text/plain": [
       "<Figure size 600x600 with 1 Axes>"
      ]
     },
     "metadata": {},
     "output_type": "display_data"
    }
   ],
   "source": [
    "sns.countplot (x = 'Stay_In_Current_City_Years', hue = 'City_Category', data = df)\n",
    "# Therefore target more in city B"
   ]
  },
  {
   "cell_type": "code",
   "execution_count": 36,
   "id": "914c7b17-d05e-48f8-afc3-deb1dd164524",
   "metadata": {},
   "outputs": [
    {
     "data": {
      "text/plain": [
       "<Axes: xlabel='Stay_In_Current_City_Years'>"
      ]
     },
     "execution_count": 36,
     "metadata": {},
     "output_type": "execute_result"
    },
    {
     "data": {
      "image/png": "[encoded data removed]",
      "text/plain": [
       "<Figure size 600x600 with 1 Axes>"
      ]
     },
     "metadata": {},
     "output_type": "display_data"
    }
   ],
   "source": [
    "df.groupby('Stay_In_Current_City_Years').sum()['Purchase'].plot(kind = 'bar')"
   ]
  },
  {
   "cell_type": "code",
   "execution_count": 37,
   "id": "bebb475f-4aaa-404a-9012-7cf82558bb3f",
   "metadata": {},
   "outputs": [
    {
     "data": {
      "text/plain": [
       "<Axes: xlabel='Occupation', ylabel='count'>"
      ]
     },
     "execution_count": 37,
     "metadata": {},
     "output_type": "execute_result"
    },
    {
     "data": {
      "image/png": "[encoded data removed]",
      "text/plain": [
       "<Figure size 600x600 with 1 Axes>"
      ]
     },
     "metadata": {},
     "output_type": "display_data"
    }
   ],
   "source": [
    "sns.countplot(x = df['Occupation'])"
   ]
  },
  {
   "cell_type": "code",
   "execution_count": 38,
   "id": "31c51e0f-a75c-4d10-bdb3-0b5194b4db76",
   "metadata": {},
   "outputs": [
    {
     "data": {
      "text/plain": [
       "<Axes: xlabel='Occupation'>"
      ]
     },
     "execution_count": 38,
     "metadata": {},
     "output_type": "execute_result"
    },
    {
     "data": {
      "image/png": "[encoded data removed]",
      "text/plain": [
       "<Figure size 600x600 with 1 Axes>"
      ]
     },
     "metadata": {},
     "output_type": "display_data"
    }
   ],
   "source": [
    "df.groupby('Occupation').size().plot(kind = 'bar')"
   ]
  },
  {
   "cell_type": "code",
   "execution_count": 39,
   "id": "a4a07d00-5f40-4da0-a399-cc12d7ba1b15",
   "metadata": {},
   "outputs": [
    {
     "data": {
      "text/plain": [
       "<Axes: xlabel='Occupation'>"
      ]
     },
     "execution_count": 39,
     "metadata": {},
     "output_type": "execute_result"
    },
    {
     "data": {
      "image/png": "[encoded data removed]",
      "text/plain": [
       "<Figure size 600x600 with 1 Axes>"
      ]
     },
     "metadata": {},
     "output_type": "display_data"
    }
   ],
   "source": [
    "df.groupby('Occupation').size().sort_values().plot(kind = 'bar')"
   ]
  },
  {
   "cell_type": "code",
   "execution_count": 40,
   "id": "8f7be2e2-1702-491b-88dc-f19355eb2add",
   "metadata": {},
   "outputs": [
    {
     "data": {
      "text/plain": [
       "Product_Category_1\n",
       "1     138353\n",
       "2      23499\n",
       "3      19849\n",
       "4      11567\n",
       "5     148592\n",
       "6      20164\n",
       "7       3668\n",
       "8     112132\n",
       "9        404\n",
       "10      5032\n",
       "11     23960\n",
       "12      3875\n",
       "13      5440\n",
       "14      1500\n",
       "15      6203\n",
       "16      9697\n",
       "17       567\n",
       "18      3075\n",
       "dtype: int64"
      ]
     },
     "execution_count": 40,
     "metadata": {},
     "output_type": "execute_result"
    }
   ],
   "source": [
    "df.groupby('Product_Category_1').size()"
   ]
  },
  {
   "cell_type": "code",
   "execution_count": 41,
   "id": "7e5f7194-f88f-4f12-a0ff-864802783564",
   "metadata": {},
   "outputs": [
    {
     "data": {
      "text/plain": [
       "<Axes: xlabel='Product_Category_1'>"
      ]
     },
     "execution_count": 41,
     "metadata": {},
     "output_type": "execute_result"
    },
    {
     "data": {
      "image/png": "[encoded data removed]",
      "text/plain": [
       "<Figure size 600x600 with 1 Axes>"
      ]
     },
     "metadata": {},
     "output_type": "display_data"
    }
   ],
   "source": [
    "df.groupby('Product_Category_1').size().plot(kind = 'bar')"
   ]
  },
  {
   "cell_type": "markdown",
   "id": "140cea55-b86e-4991-88a4-f4887796e190",
   "metadata": {},
   "source": [
    "## Combining Age and Marital Status"
   ]
  },
  {
   "cell_type": "code",
   "execution_count": 44,
   "id": "a0ee344c-01cf-4a5d-886c-c881eb51d99d",
   "metadata": {},
   "outputs": [],
   "source": [
    "l = []\n",
    "for i in range(len(df)):\n",
    "    l.append(df['Gender'][i] + \"_\"+str(df['Marital_Status'][i]))"
   ]
  },
  {
   "cell_type": "code",
   "execution_count": 45,
   "id": "e6cb2d7c-9467-4dd1-9938-b86ff7ac4ffe",
   "metadata": {},
   "outputs": [
    {
     "data": {
      "text/plain": [
       "['F_0',\n",
       " 'F_0',\n",
       " 'F_0',\n",
       " 'F_0',\n",
       " 'M_0',\n",
       " 'M_0',\n",
       " 'M_1',\n",
       " 'M_1',\n",
       " 'M_1',\n",
       " 'M_1',\n",
       " 'M_1',\n",
       " 'M_1',\n",
       " 'M_1',\n",
       " 'M_1',\n",
       " 'F_0',\n",
       " 'F_0',\n",
       " 'F_0',\n",
       " 'F_0',\n",
       " 'M_1',\n",
       " 'M_1',\n",
       " 'M_1',\n",
       " 'M_1',\n",
       " 'M_1',\n",
       " 'M_1',\n",
       " 'M_1',\n",
       " 'M_0',\n",
       " 'M_0',\n",
       " 'M_0',\n",
       " 'M_0',\n",
       " 'F_1',\n",
       " 'F_1',\n",
       " 'F_1',\n",
       " 'F_1',\n",
       " 'F_1',\n",
       " 'F_1',\n",
       " 'F_1',\n",
       " 'F_1',\n",
       " 'F_1',\n",
       " 'F_1',\n",
       " 'F_1',\n",
       " 'F_1',\n",
       " 'F_1',\n",
       " 'F_1',\n",
       " 'F_1',\n",
       " 'F_1',\n",
       " 'F_1',\n",
       " 'F_1',\n",
       " 'F_0',\n",
       " 'F_0',\n",
       " 'F_0',\n",
       " 'M_0',\n",
       " 'M_0',\n",
       " 'M_1',\n",
       " 'M_1',\n",
       " 'M_1',\n",
       " 'M_0',\n",
       " 'M_0',\n",
       " 'M_0',\n",
       " 'M_0',\n",
       " 'M_0',\n",
       " 'M_0',\n",
       " 'M_0',\n",
       " 'M_0',\n",
       " 'M_0',\n",
       " 'M_0',\n",
       " 'F_1',\n",
       " 'F_1',\n",
       " 'M_0',\n",
       " 'M_0',\n",
       " 'M_0',\n",
       " 'F_0',\n",
       " 'F_0',\n",
       " 'F_0',\n",
       " 'F_0',\n",
       " 'F_0',\n",
       " 'F_0',\n",
       " 'F_0',\n",
       " 'F_0',\n",
       " 'F_0',\n",
       " 'F_0',\n",
       " 'F_0',\n",
       " 'F_0',\n",
       " 'F_0',\n",
       " 'F_0',\n",
       " 'F_0',\n",
       " 'M_0',\n",
       " 'M_0',\n",
       " 'M_0',\n",
       " 'M_0',\n",
       " 'M_0',\n",
       " 'M_0',\n",
       " 'M_0',\n",
       " 'M_0',\n",
       " 'M_0',\n",
       " 'M_0',\n",
       " 'M_0',\n",
       " 'M_0',\n",
       " 'M_0',\n",
       " 'M_0',\n",
       " 'M_0',\n",
       " 'M_0',\n",
       " 'M_0',\n",
       " 'M_0',\n",
       " 'M_0',\n",
       " 'M_0',\n",
       " 'M_0',\n",
       " 'M_0',\n",
       " 'M_0',\n",
       " 'M_0',\n",
       " 'M_0',\n",
       " 'M_0',\n",
       " 'M_0',\n",
       " 'M_1',\n",
       " 'M_1',\n",
       " 'M_1',\n",
       " 'M_1',\n",
       " 'M_1',\n",
       " 'M_1',\n",
       " 'M_1',\n",
       " 'M_1',\n",
       " 'M_1',\n",
       " 'M_1',\n",
       " 'M_1',\n",
       " 'M_1',\n",
       " 'F_1',\n",
       " 'F_1',\n",
       " 'F_1',\n",
       " 'M_0',\n",
       " 'M_0',\n",
       " 'M_0',\n",
       " 'M_1',\n",
       " 'M_1',\n",
       " 'M_1',\n",
       " 'M_1',\n",
       " 'M_1',\n",
       " 'M_1',\n",
       " 'M_1',\n",
       " 'M_1',\n",
       " 'M_1',\n",
       " 'M_1',\n",
       " 'M_1',\n",
       " 'M_1',\n",
       " 'M_1',\n",
       " 'M_1',\n",
       " 'M_1',\n",
       " 'M_1',\n",
       " 'M_1',\n",
       " 'F_1',\n",
       " 'F_1',\n",
       " 'F_1',\n",
       " 'F_1',\n",
       " 'F_1',\n",
       " 'M_0',\n",
       " 'M_0',\n",
       " 'M_0',\n",
       " 'M_0',\n",
       " 'F_0',\n",
       " 'F_0',\n",
       " 'F_0',\n",
       " 'M_0',\n",
       " 'M_0',\n",
       " 'M_0',\n",
       " 'M_0',\n",
       " 'F_1',\n",
       " 'M_1',\n",
       " 'M_1',\n",
       " 'M_1',\n",
       " 'M_1',\n",
       " 'M_1',\n",
       " 'M_1',\n",
       " 'M_1',\n",
       " 'M_1',\n",
       " 'M_1',\n",
       " 'M_1',\n",
       " 'M_1',\n",
       " 'M_1',\n",
       " 'M_1',\n",
       " 'M_1',\n",
       " 'M_1',\n",
       " 'F_0',\n",
       " 'F_0',\n",
       " 'F_0',\n",
       " 'F_0',\n",
       " 'F_0',\n",
       " 'F_0',\n",
       " 'F_0',\n",
       " 'F_0',\n",
       " 'F_0',\n",
       " 'F_0',\n",
       " 'M_1',\n",
       " 'M_1',\n",
       " 'M_1',\n",
       " 'M_1',\n",
       " 'M_1',\n",
       " 'M_1',\n",
       " 'M_1',\n",
       " 'M_0',\n",
       " 'M_0',\n",
       " 'M_0',\n",
       " 'M_0',\n",
       " 'M_0',\n",
       " 'M_0',\n",
       " 'M_0',\n",
       " 'M_0',\n",
       " 'M_0',\n",
       " 'M_0',\n",
       " 'M_0',\n",
       " 'M_0',\n",
       " 'M_0',\n",
       " 'M_0',\n",
       " 'M_0',\n",
       " 'M_0',\n",
       " 'M_0',\n",
       " 'M_0',\n",
       " 'M_0',\n",
       " 'M_0',\n",
       " 'M_0',\n",
       " 'M_0',\n",
       " 'M_0',\n",
       " 'F_0',\n",
       " 'M_0',\n",
       " 'M_0',\n",
       " 'F_0',\n",
       " 'F_0',\n",
       " 'M_1',\n",
       " 'M_1',\n",
       " 'M_1',\n",
       " 'M_1',\n",
       " 'M_1',\n",
       " 'M_1',\n",
       " 'M_1',\n",
       " 'M_1',\n",
       " 'M_1',\n",
       " 'M_1',\n",
       " 'M_0',\n",
       " 'M_1',\n",
       " 'M_1',\n",
       " 'M_1',\n",
       " 'M_1',\n",
       " 'M_1',\n",
       " 'M_1',\n",
       " 'M_1',\n",
       " 'M_1',\n",
       " 'M_1',\n",
       " 'M_1',\n",
       " 'M_1',\n",
       " 'M_1',\n",
       " 'M_1',\n",
       " 'F_1',\n",
       " 'F_1',\n",
       " 'F_1',\n",
       " 'F_1',\n",
       " 'F_1',\n",
       " 'F_1',\n",
       " 'F_1',\n",
       " 'F_1',\n",
       " 'F_1',\n",
       " 'F_1',\n",
       " 'M_0',\n",
       " 'M_0',\n",
       " 'M_0',\n",
       " 'M_0',\n",
       " 'M_1',\n",
       " 'M_1',\n",
       " 'M_1',\n",
       " 'M_1',\n",
       " 'M_1',\n",
       " 'M_1',\n",
       " 'M_1',\n",
       " 'M_1',\n",
       " 'M_1',\n",
       " 'M_1',\n",
       " 'M_1',\n",
       " 'M_1',\n",
       " 'M_1',\n",
       " 'M_1',\n",
       " 'M_1',\n",
       " 'M_1',\n",
       " 'M_1',\n",
       " 'M_1',\n",
       " 'M_1',\n",
       " 'M_1',\n",
       " 'M_1',\n",
       " 'M_1',\n",
       " 'M_1',\n",
       " 'M_1',\n",
       " 'M_1',\n",
       " 'M_1',\n",
       " 'M_1',\n",
       " 'M_1',\n",
       " 'M_1',\n",
       " 'M_1',\n",
       " 'M_1',\n",
       " 'M_1',\n",
       " 'M_1',\n",
       " 'M_1',\n",
       " 'M_1',\n",
       " 'F_1',\n",
       " 'F_1',\n",
       " 'F_0',\n",
       " 'M_0',\n",
       " 'M_0',\n",
       " 'M_0',\n",
       " 'M_0',\n",
       " 'M_0',\n",
       " 'M_0',\n",
       " 'M_0',\n",
       " 'M_0',\n",
       " 'M_0',\n",
       " 'M_0',\n",
       " 'M_0',\n",
       " 'M_0',\n",
       " 'M_0',\n",
       " 'M_0',\n",
       " 'M_0',\n",
       " 'M_0',\n",
       " 'M_0',\n",
       " 'M_0',\n",
       " 'M_0',\n",
       " 'M_0',\n",
       " 'M_0',\n",
       " 'M_0',\n",
       " 'M_0',\n",
       " 'M_0',\n",
       " 'M_0',\n",
       " 'M_0',\n",
       " 'M_0',\n",
       " 'M_0',\n",
       " 'M_0',\n",
       " 'M_0',\n",
       " 'M_0',\n",
       " 'M_0',\n",
       " 'M_0',\n",
       " 'M_1',\n",
       " 'M_1',\n",
       " 'M_1',\n",
       " 'M_1',\n",
       " 'M_1',\n",
       " 'M_1',\n",
       " 'M_0',\n",
       " 'M_0',\n",
       " 'M_0',\n",
       " 'M_0',\n",
       " 'M_0',\n",
       " 'M_0',\n",
       " 'M_0',\n",
       " 'M_0',\n",
       " 'M_0',\n",
       " 'M_0',\n",
       " 'M_0',\n",
       " 'M_0',\n",
       " 'M_0',\n",
       " 'M_0',\n",
       " 'M_0',\n",
       " 'M_0',\n",
       " 'F_1',\n",
       " 'F_1',\n",
       " 'F_1',\n",
       " 'F_1',\n",
       " 'F_1',\n",
       " 'F_1',\n",
       " 'F_1',\n",
       " 'F_1',\n",
       " 'F_1',\n",
       " 'F_1',\n",
       " 'F_1',\n",
       " 'F_1',\n",
       " 'F_1',\n",
       " 'F_1',\n",
       " 'F_1',\n",
       " 'M_1',\n",
       " 'M_1',\n",
       " 'M_0',\n",
       " 'F_0',\n",
       " 'F_0',\n",
       " 'F_0',\n",
       " 'F_0',\n",
       " 'F_0',\n",
       " 'F_0',\n",
       " 'F_0',\n",
       " 'F_0',\n",
       " 'F_0',\n",
       " 'F_0',\n",
       " 'F_0',\n",
       " 'F_0',\n",
       " 'F_0',\n",
       " 'F_0',\n",
       " 'F_0',\n",
       " 'M_0',\n",
       " 'M_0',\n",
       " 'M_0',\n",
       " 'M_0',\n",
       " 'M_1',\n",
       " 'M_1',\n",
       " 'M_1',\n",
       " 'M_1',\n",
       " 'M_1',\n",
       " 'M_1',\n",
       " 'M_1',\n",
       " 'M_0',\n",
       " 'F_1',\n",
       " 'F_1',\n",
       " 'F_1',\n",
       " 'M_0',\n",
       " 'M_0',\n",
       " 'M_0',\n",
       " 'F_0',\n",
       " 'F_0',\n",
       " 'M_0',\n",
       " 'M_0',\n",
       " 'M_1',\n",
       " 'M_1',\n",
       " 'M_1',\n",
       " 'M_1',\n",
       " 'F_1',\n",
       " 'F_1',\n",
       " 'M_0',\n",
       " 'M_0',\n",
       " 'M_0',\n",
       " 'M_0',\n",
       " 'M_0',\n",
       " 'M_1',\n",
       " 'M_1',\n",
       " 'F_0',\n",
       " 'F_0',\n",
       " 'F_0',\n",
       " 'F_0',\n",
       " 'F_0',\n",
       " 'F_0',\n",
       " 'F_0',\n",
       " 'F_0',\n",
       " 'F_0',\n",
       " 'F_0',\n",
       " 'M_1',\n",
       " 'M_1',\n",
       " 'M_1',\n",
       " 'M_1',\n",
       " 'M_1',\n",
       " 'M_0',\n",
       " 'M_0',\n",
       " 'M_0',\n",
       " 'F_1',\n",
       " 'F_1',\n",
       " 'F_1',\n",
       " 'F_1',\n",
       " 'F_1',\n",
       " 'F_1',\n",
       " 'F_1',\n",
       " 'F_1',\n",
       " 'F_0',\n",
       " 'F_0',\n",
       " 'M_1',\n",
       " 'M_1',\n",
       " 'M_1',\n",
       " 'F_1',\n",
       " 'M_1',\n",
       " 'M_1',\n",
       " 'F_0',\n",
       " 'F_0',\n",
       " 'F_0',\n",
       " 'F_0',\n",
       " 'F_0',\n",
       " 'M_0',\n",
       " 'M_0',\n",
       " 'M_0',\n",
       " 'M_0',\n",
       " 'M_0',\n",
       " 'F_0',\n",
       " 'F_0',\n",
       " 'M_0',\n",
       " 'M_0',\n",
       " 'M_0',\n",
       " 'F_1',\n",
       " 'F_1',\n",
       " 'F_1',\n",
       " 'F_1',\n",
       " 'F_1',\n",
       " 'M_0',\n",
       " 'M_0',\n",
       " 'M_0',\n",
       " 'M_0',\n",
       " 'M_0',\n",
       " 'M_0',\n",
       " 'M_0',\n",
       " 'M_0',\n",
       " 'M_0',\n",
       " 'M_0',\n",
       " 'M_0',\n",
       " 'M_0',\n",
       " 'M_0',\n",
       " 'M_0',\n",
       " 'M_1',\n",
       " 'M_1',\n",
       " 'M_1',\n",
       " 'M_1',\n",
       " 'F_0',\n",
       " 'F_0',\n",
       " 'F_0',\n",
       " 'F_0',\n",
       " 'F_0',\n",
       " 'F_0',\n",
       " 'F_0',\n",
       " 'F_0',\n",
       " 'F_0',\n",
       " 'F_0',\n",
       " 'F_0',\n",
       " 'F_0',\n",
       " 'F_0',\n",
       " 'F_0',\n",
       " 'F_0',\n",
       " 'M_1',\n",
       " 'M_1',\n",
       " 'M_1',\n",
       " 'M_1',\n",
       " 'M_1',\n",
       " 'M_1',\n",
       " 'M_1',\n",
       " 'M_1',\n",
       " 'M_1',\n",
       " 'M_1',\n",
       " 'M_1',\n",
       " 'M_1',\n",
       " 'M_1',\n",
       " 'M_1',\n",
       " 'M_1',\n",
       " 'M_1',\n",
       " 'M_0',\n",
       " 'M_1',\n",
       " 'M_1',\n",
       " 'F_1',\n",
       " 'F_1',\n",
       " 'F_0',\n",
       " 'F_0',\n",
       " 'F_0',\n",
       " 'F_0',\n",
       " 'F_0',\n",
       " 'F_0',\n",
       " 'F_0',\n",
       " 'F_0',\n",
       " 'F_0',\n",
       " 'F_0',\n",
       " 'F_0',\n",
       " 'F_0',\n",
       " 'F_0',\n",
       " 'M_0',\n",
       " 'M_0',\n",
       " 'M_0',\n",
       " 'F_0',\n",
       " 'F_0',\n",
       " 'F_0',\n",
       " 'F_0',\n",
       " 'M_0',\n",
       " 'M_0',\n",
       " 'M_0',\n",
       " 'M_0',\n",
       " 'M_0',\n",
       " 'M_0',\n",
       " 'M_0',\n",
       " 'M_1',\n",
       " 'M_1',\n",
       " 'M_1',\n",
       " 'M_1',\n",
       " 'M_1',\n",
       " 'M_1',\n",
       " 'M_1',\n",
       " 'M_1',\n",
       " 'F_0',\n",
       " 'F_0',\n",
       " 'F_0',\n",
       " 'M_0',\n",
       " 'M_0',\n",
       " 'M_0',\n",
       " 'M_0',\n",
       " 'M_0',\n",
       " 'M_0',\n",
       " 'M_0',\n",
       " 'M_1',\n",
       " 'M_1',\n",
       " 'M_1',\n",
       " 'M_0',\n",
       " 'M_0',\n",
       " 'M_0',\n",
       " 'M_1',\n",
       " 'M_0',\n",
       " 'M_0',\n",
       " 'F_0',\n",
       " 'F_0',\n",
       " 'M_1',\n",
       " 'M_1',\n",
       " 'M_1',\n",
       " 'M_1',\n",
       " 'M_1',\n",
       " 'M_1',\n",
       " 'M_1',\n",
       " 'M_1',\n",
       " 'M_1',\n",
       " 'M_1',\n",
       " 'M_1',\n",
       " 'M_1',\n",
       " 'M_1',\n",
       " 'M_1',\n",
       " 'M_1',\n",
       " 'M_1',\n",
       " 'M_1',\n",
       " 'M_1',\n",
       " 'M_0',\n",
       " 'M_0',\n",
       " 'M_0',\n",
       " 'M_0',\n",
       " 'M_0',\n",
       " 'M_0',\n",
       " 'M_0',\n",
       " 'M_0',\n",
       " 'M_0',\n",
       " 'M_0',\n",
       " 'M_0',\n",
       " 'M_0',\n",
       " 'F_0',\n",
       " 'F_0',\n",
       " 'F_0',\n",
       " 'F_0',\n",
       " 'F_0',\n",
       " 'M_0',\n",
       " 'M_0',\n",
       " 'M_0',\n",
       " 'F_0',\n",
       " 'M_1',\n",
       " 'M_1',\n",
       " 'M_1',\n",
       " 'M_1',\n",
       " 'M_1',\n",
       " 'M_1',\n",
       " 'M_1',\n",
       " 'M_1',\n",
       " 'M_1',\n",
       " 'M_1',\n",
       " 'M_1',\n",
       " 'M_1',\n",
       " 'M_1',\n",
       " 'M_1',\n",
       " 'M_1',\n",
       " 'M_1',\n",
       " 'M_1',\n",
       " 'M_1',\n",
       " 'M_1',\n",
       " 'M_1',\n",
       " 'M_1',\n",
       " 'M_1',\n",
       " 'M_1',\n",
       " 'M_1',\n",
       " 'M_1',\n",
       " 'M_1',\n",
       " 'M_0',\n",
       " 'M_0',\n",
       " 'F_1',\n",
       " 'F_1',\n",
       " 'F_1',\n",
       " 'F_1',\n",
       " 'F_1',\n",
       " 'M_1',\n",
       " 'M_0',\n",
       " 'M_0',\n",
       " 'M_0',\n",
       " 'M_0',\n",
       " 'M_0',\n",
       " 'M_1',\n",
       " 'M_1',\n",
       " 'M_1',\n",
       " 'M_1',\n",
       " 'M_1',\n",
       " 'M_1',\n",
       " 'M_1',\n",
       " 'M_1',\n",
       " 'M_1',\n",
       " 'M_1',\n",
       " 'M_1',\n",
       " 'M_0',\n",
       " 'M_0',\n",
       " 'M_0',\n",
       " 'M_0',\n",
       " 'M_0',\n",
       " 'M_0',\n",
       " 'M_0',\n",
       " 'M_0',\n",
       " 'M_0',\n",
       " 'M_0',\n",
       " 'M_0',\n",
       " 'M_0',\n",
       " 'M_0',\n",
       " 'M_0',\n",
       " 'M_0',\n",
       " 'F_1',\n",
       " 'F_1',\n",
       " 'F_1',\n",
       " 'F_1',\n",
       " 'F_1',\n",
       " 'M_1',\n",
       " 'M_1',\n",
       " 'M_1',\n",
       " 'M_1',\n",
       " 'M_1',\n",
       " 'M_1',\n",
       " 'M_1',\n",
       " 'M_0',\n",
       " 'M_0',\n",
       " 'M_0',\n",
       " 'M_0',\n",
       " 'M_0',\n",
       " 'M_0',\n",
       " 'M_0',\n",
       " 'M_0',\n",
       " 'M_0',\n",
       " 'M_0',\n",
       " 'M_0',\n",
       " 'M_0',\n",
       " 'M_0',\n",
       " 'M_0',\n",
       " 'F_1',\n",
       " 'F_1',\n",
       " 'F_1',\n",
       " 'F_1',\n",
       " 'F_1',\n",
       " 'F_1',\n",
       " 'F_1',\n",
       " 'F_1',\n",
       " 'F_1',\n",
       " 'M_1',\n",
       " 'M_1',\n",
       " 'M_1',\n",
       " 'F_0',\n",
       " 'F_0',\n",
       " 'F_0',\n",
       " 'F_0',\n",
       " 'F_0',\n",
       " 'F_0',\n",
       " 'F_0',\n",
       " 'F_0',\n",
       " 'F_0',\n",
       " 'F_0',\n",
       " 'F_0',\n",
       " 'F_0',\n",
       " 'F_0',\n",
       " 'F_0',\n",
       " 'F_0',\n",
       " 'F_0',\n",
       " 'M_0',\n",
       " 'M_0',\n",
       " 'M_0',\n",
       " 'M_0',\n",
       " 'M_0',\n",
       " 'M_0',\n",
       " 'M_0',\n",
       " 'M_0',\n",
       " 'M_0',\n",
       " 'M_0',\n",
       " 'M_0',\n",
       " 'M_0',\n",
       " 'F_1',\n",
       " 'F_1',\n",
       " 'F_1',\n",
       " 'F_1',\n",
       " 'F_1',\n",
       " 'F_1',\n",
       " 'F_1',\n",
       " 'F_1',\n",
       " 'F_1',\n",
       " 'F_1',\n",
       " 'F_1',\n",
       " 'F_1',\n",
       " 'F_1',\n",
       " 'F_1',\n",
       " 'F_1',\n",
       " 'F_1',\n",
       " 'F_1',\n",
       " 'F_1',\n",
       " 'F_1',\n",
       " 'F_1',\n",
       " 'F_1',\n",
       " 'F_1',\n",
       " 'F_1',\n",
       " 'F_1',\n",
       " 'M_0',\n",
       " 'M_0',\n",
       " 'M_0',\n",
       " 'M_0',\n",
       " 'M_0',\n",
       " 'M_0',\n",
       " 'M_0',\n",
       " 'M_1',\n",
       " 'M_1',\n",
       " 'M_1',\n",
       " 'M_1',\n",
       " 'M_1',\n",
       " 'M_1',\n",
       " 'M_1',\n",
       " 'M_1',\n",
       " 'M_1',\n",
       " 'M_1',\n",
       " 'M_1',\n",
       " 'M_1',\n",
       " 'M_1',\n",
       " 'M_1',\n",
       " 'M_1',\n",
       " 'M_1',\n",
       " 'M_1',\n",
       " 'M_1',\n",
       " 'M_1',\n",
       " 'M_1',\n",
       " 'M_1',\n",
       " 'M_1',\n",
       " 'M_1',\n",
       " 'M_1',\n",
       " 'M_1',\n",
       " 'M_1',\n",
       " 'M_1',\n",
       " 'M_1',\n",
       " 'M_1',\n",
       " 'M_1',\n",
       " 'M_1',\n",
       " 'M_1',\n",
       " 'M_1',\n",
       " 'M_1',\n",
       " 'M_1',\n",
       " 'M_1',\n",
       " 'M_1',\n",
       " 'M_1',\n",
       " 'M_1',\n",
       " 'M_1',\n",
       " 'M_1',\n",
       " 'M_1',\n",
       " 'M_1',\n",
       " 'M_1',\n",
       " 'M_1',\n",
       " 'M_1',\n",
       " 'M_1',\n",
       " 'M_1',\n",
       " 'M_1',\n",
       " 'M_1',\n",
       " 'M_1',\n",
       " 'M_1',\n",
       " 'F_1',\n",
       " 'F_1',\n",
       " 'F_1',\n",
       " 'F_1',\n",
       " 'F_1',\n",
       " 'F_1',\n",
       " 'F_1',\n",
       " 'F_1',\n",
       " 'F_1',\n",
       " 'F_1',\n",
       " 'F_1',\n",
       " 'F_1',\n",
       " 'F_1',\n",
       " 'F_1',\n",
       " 'F_1',\n",
       " 'F_1',\n",
       " 'F_1',\n",
       " 'F_1',\n",
       " 'F_1',\n",
       " 'F_1',\n",
       " 'F_1',\n",
       " 'F_1',\n",
       " 'F_1',\n",
       " 'F_1',\n",
       " 'M_0',\n",
       " 'M_0',\n",
       " 'M_0',\n",
       " 'M_0',\n",
       " 'M_1',\n",
       " 'M_1',\n",
       " 'M_1',\n",
       " 'M_1',\n",
       " 'M_1',\n",
       " 'M_1',\n",
       " 'M_1',\n",
       " 'M_1',\n",
       " 'M_1',\n",
       " 'M_1',\n",
       " 'M_1',\n",
       " 'F_1',\n",
       " 'F_1',\n",
       " 'F_1',\n",
       " 'M_0',\n",
       " 'M_0',\n",
       " 'M_0',\n",
       " 'M_0',\n",
       " 'M_0',\n",
       " 'M_0',\n",
       " 'M_0',\n",
       " 'M_0',\n",
       " 'M_0',\n",
       " 'M_0',\n",
       " 'M_0',\n",
       " 'M_1',\n",
       " 'M_1',\n",
       " 'F_1',\n",
       " 'M_0',\n",
       " 'M_0',\n",
       " 'M_1',\n",
       " 'M_1',\n",
       " 'M_1',\n",
       " 'M_1',\n",
       " 'M_1',\n",
       " 'M_1',\n",
       " 'M_1',\n",
       " 'M_1',\n",
       " 'M_1',\n",
       " 'M_1',\n",
       " 'M_1',\n",
       " 'M_1',\n",
       " 'F_0',\n",
       " 'F_0',\n",
       " 'F_0',\n",
       " 'F_0',\n",
       " 'F_0',\n",
       " 'M_0',\n",
       " 'M_0',\n",
       " 'M_0',\n",
       " 'M_0',\n",
       " 'M_0',\n",
       " 'M_0',\n",
       " 'M_0',\n",
       " 'M_0',\n",
       " 'M_0',\n",
       " 'M_0',\n",
       " 'M_0',\n",
       " 'M_0',\n",
       " 'M_0',\n",
       " 'M_0',\n",
       " 'M_0',\n",
       " 'M_0',\n",
       " 'M_0',\n",
       " 'M_0',\n",
       " 'M_0',\n",
       " 'M_0',\n",
       " 'M_0',\n",
       " 'M_0',\n",
       " 'M_0',\n",
       " 'M_0',\n",
       " 'M_0',\n",
       " 'M_0',\n",
       " 'M_0',\n",
       " 'M_0',\n",
       " 'M_0',\n",
       " 'M_1',\n",
       " 'M_1',\n",
       " 'M_1',\n",
       " 'M_1',\n",
       " 'M_1',\n",
       " 'M_1',\n",
       " 'M_1',\n",
       " 'M_1',\n",
       " 'M_1',\n",
       " 'M_1',\n",
       " 'M_1',\n",
       " 'M_1',\n",
       " 'M_1',\n",
       " 'M_1',\n",
       " 'M_1',\n",
       " 'M_1',\n",
       " 'M_1',\n",
       " 'M_1',\n",
       " 'M_1',\n",
       " 'M_1',\n",
       " 'M_1',\n",
       " 'M_1',\n",
       " 'M_0',\n",
       " 'M_0',\n",
       " 'M_0',\n",
       " 'M_0',\n",
       " 'M_0',\n",
       " 'M_0',\n",
       " 'M_0',\n",
       " 'M_0',\n",
       " 'M_0',\n",
       " 'M_0',\n",
       " 'M_0',\n",
       " 'M_0',\n",
       " 'M_0',\n",
       " 'M_0',\n",
       " 'M_0',\n",
       " 'M_0',\n",
       " 'M_0',\n",
       " 'M_0',\n",
       " 'M_0',\n",
       " 'M_0',\n",
       " 'M_0',\n",
       " 'M_0',\n",
       " 'M_0',\n",
       " 'M_0',\n",
       " 'M_0',\n",
       " 'M_0',\n",
       " 'M_0',\n",
       " 'M_0',\n",
       " 'M_0',\n",
       " 'M_1',\n",
       " 'M_1',\n",
       " 'F_1',\n",
       " 'M_0',\n",
       " 'M_1',\n",
       " ...]"
      ]
     },
     "execution_count": 45,
     "metadata": {},
     "output_type": "execute_result"
    }
   ],
   "source": [
    "l"
   ]
  },
  {
   "cell_type": "code",
   "execution_count": 46,
   "id": "3feaa080-3b19-48b7-8617-5171669500a8",
   "metadata": {},
   "outputs": [],
   "source": [
    "df['MaritalGender'] = l"
   ]
  },
  {
   "cell_type": "code",
   "execution_count": 47,
   "id": "85d09147-6b3c-482d-b05c-6540600a7061",
   "metadata": {},
   "outputs": [
    {
     "data": {
      "text/html": [
       "<div>\n",
       "<style scoped>\n",
       "    .dataframe tbody tr th:only-of-type {\n",
       "        vertical-align: middle;\n",
       "    }\n",
       "\n",
       "    .dataframe tbody tr th {\n",
       "        vertical-align: top;\n",
       "    }\n",
       "\n",
       "    .dataframe thead th {\n",
       "        text-align: right;\n",
       "    }\n",
       "</style>\n",
       "<table border=\"1\" class=\"dataframe\">\n",
       "  <thead>\n",
       "    <tr style=\"text-align: right;\">\n",
       "      <th></th>\n",
       "      <th>User_ID</th>\n",
       "      <th>Product_ID</th>\n",
       "      <th>Gender</th>\n",
       "      <th>Age</th>\n",
       "      <th>Occupation</th>\n",
       "      <th>City_Category</th>\n",
       "      <th>Stay_In_Current_City_Years</th>\n",
       "      <th>Marital_Status</th>\n",
       "      <th>Product_Category_1</th>\n",
       "      <th>Purchase</th>\n",
       "      <th>MaritalGender</th>\n",
       "    </tr>\n",
       "  </thead>\n",
       "  <tbody>\n",
       "    <tr>\n",
       "      <th>0</th>\n",
       "      <td>1000001</td>\n",
       "      <td>P00069042</td>\n",
       "      <td>F</td>\n",
       "      <td>0-17</td>\n",
       "      <td>10</td>\n",
       "      <td>A</td>\n",
       "      <td>2</td>\n",
       "      <td>0</td>\n",
       "      <td>3</td>\n",
       "      <td>8370</td>\n",
       "      <td>F_0</td>\n",
       "    </tr>\n",
       "    <tr>\n",
       "      <th>1</th>\n",
       "      <td>1000001</td>\n",
       "      <td>P00248942</td>\n",
       "      <td>F</td>\n",
       "      <td>0-17</td>\n",
       "      <td>10</td>\n",
       "      <td>A</td>\n",
       "      <td>2</td>\n",
       "      <td>0</td>\n",
       "      <td>1</td>\n",
       "      <td>15200</td>\n",
       "      <td>F_0</td>\n",
       "    </tr>\n",
       "    <tr>\n",
       "      <th>2</th>\n",
       "      <td>1000001</td>\n",
       "      <td>P00087842</td>\n",
       "      <td>F</td>\n",
       "      <td>0-17</td>\n",
       "      <td>10</td>\n",
       "      <td>A</td>\n",
       "      <td>2</td>\n",
       "      <td>0</td>\n",
       "      <td>12</td>\n",
       "      <td>1422</td>\n",
       "      <td>F_0</td>\n",
       "    </tr>\n",
       "    <tr>\n",
       "      <th>3</th>\n",
       "      <td>1000001</td>\n",
       "      <td>P00085442</td>\n",
       "      <td>F</td>\n",
       "      <td>0-17</td>\n",
       "      <td>10</td>\n",
       "      <td>A</td>\n",
       "      <td>2</td>\n",
       "      <td>0</td>\n",
       "      <td>12</td>\n",
       "      <td>1057</td>\n",
       "      <td>F_0</td>\n",
       "    </tr>\n",
       "    <tr>\n",
       "      <th>4</th>\n",
       "      <td>1000002</td>\n",
       "      <td>P00285442</td>\n",
       "      <td>M</td>\n",
       "      <td>55+</td>\n",
       "      <td>16</td>\n",
       "      <td>C</td>\n",
       "      <td>4+</td>\n",
       "      <td>0</td>\n",
       "      <td>8</td>\n",
       "      <td>7969</td>\n",
       "      <td>M_0</td>\n",
       "    </tr>\n",
       "  </tbody>\n",
       "</table>\n",
       "</div>"
      ],
      "text/plain": [
       "   User_ID Product_ID Gender   Age  Occupation City_Category  \\\n",
       "0  1000001  P00069042      F  0-17          10             A   \n",
       "1  1000001  P00248942      F  0-17          10             A   \n",
       "2  1000001  P00087842      F  0-17          10             A   \n",
       "3  1000001  P00085442      F  0-17          10             A   \n",
       "4  1000002  P00285442      M   55+          16             C   \n",
       "\n",
       "  Stay_In_Current_City_Years  Marital_Status  Product_Category_1  Purchase  \\\n",
       "0                          2               0                   3      8370   \n",
       "1                          2               0                   1     15200   \n",
       "2                          2               0                  12      1422   \n",
       "3                          2               0                  12      1057   \n",
       "4                         4+               0                   8      7969   \n",
       "\n",
       "  MaritalGender  \n",
       "0           F_0  \n",
       "1           F_0  \n",
       "2           F_0  \n",
       "3           F_0  \n",
       "4           M_0  "
      ]
     },
     "execution_count": 47,
     "metadata": {},
     "output_type": "execute_result"
    }
   ],
   "source": [
    "df.head()"
   ]
  },
  {
   "cell_type": "code",
   "execution_count": 48,
   "id": "42fb7704-6caf-496a-8068-756941714628",
   "metadata": {},
   "outputs": [
    {
     "data": {
      "text/plain": [
       "<Axes: xlabel='MaritalGender', ylabel='count'>"
      ]
     },
     "execution_count": 48,
     "metadata": {},
     "output_type": "execute_result"
    },
    {
     "data": {
      "image/png": "[encoded data removed]",
      "text/plain": [
       "<Figure size 600x600 with 1 Axes>"
      ]
     },
     "metadata": {},
     "output_type": "display_data"
    }
   ],
   "source": [
    "sns.countplot(x = df['MaritalGender'])\n",
    "# Therefore can say count of purchase of men-unmarried > men-married > female-unmarried > female-married"
   ]
  },
  {
   "cell_type": "code",
   "execution_count": 49,
   "id": "ba0a110a-b274-4336-b758-8e9ce55f6c12",
   "metadata": {},
   "outputs": [
    {
     "data": {
      "text/plain": [
       "<Axes: xlabel='Age', ylabel='count'>"
      ]
     },
     "execution_count": 49,
     "metadata": {},
     "output_type": "execute_result"
    },
    {
     "data": {
      "image/png": "[encoded data removed]",
      "text/plain": [
       "<Figure size 600x600 with 1 Axes>"
      ]
     },
     "metadata": {},
     "output_type": "display_data"
    }
   ],
   "source": [
    "sns.countplot(x = df['Age'], hue = df['MaritalGender'])"
   ]
  },
  {
   "cell_type": "code",
   "execution_count": 50,
   "id": "8f2f800e-94b3-422c-8135-355732462236",
   "metadata": {},
   "outputs": [
    {
     "data": {
      "text/plain": [
       "<Axes: xlabel='City_Category', ylabel='count'>"
      ]
     },
     "execution_count": 50,
     "metadata": {},
     "output_type": "execute_result"
    },
    {
     "data": {
      "image/png": "[encoded data removed]",
      "text/plain": [
       "<Figure size 600x600 with 1 Axes>"
      ]
     },
     "metadata": {},
     "output_type": "display_data"
    }
   ],
   "source": [
    "sns.countplot(x = df['City_Category'], hue = df['MaritalGender'])"
   ]
  }
 ],
 "metadata": {
  "kernelspec": {
   "display_name": "Python 3 (ipykernel)",
   "language": "python",
   "name": "python3"
  },
  "language_info": {
   "codemirror_mode": {
    "name": "ipython",
    "version": 3
   },
   "file_extension": ".py",
   "mimetype": "text/x-python",
   "name": "python",
   "nbconvert_exporter": "python",
   "pygments_lexer": "ipython3",
   "version": "3.12.4"
  }
 },
 "nbformat": 4,
 "nbformat_minor": 5
}
