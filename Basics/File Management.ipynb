{
 "cells": [
  {
   "cell_type": "markdown",
   "id": "1c385d27-ec1c-493d-9f58-f9c8f3caef81",
   "metadata": {
    "jp-MarkdownHeadingCollapsed": true
   },
   "source": [
    "## Reading Data From File"
   ]
  },
  {
   "cell_type": "code",
   "execution_count": 1,
   "id": "da04f449-38f0-4de5-9472-6a02e63d0ddc",
   "metadata": {},
   "outputs": [
    {
     "name": "stdout",
     "output_type": "stream",
     "text": [
      "1) This is a text file with multiple lines \n",
      "2) first line\n",
      "3) second line\n",
      "4) third line\n",
      "5) fourth line\n",
      "\n",
      "Virat Kohli player profile\n",
      "\n",
      "India has given to the world many a great cricketer but perhaps none as ambitious as Virat Kohli. To meet his ambition, Kohli employed the technical assiduousness of Sachin Tendulkar and fitness that was in the league of top athletes in the world, not just cricketers. As a result, Kohli became the most consistent all-format accumulator of his time, making jaw-dropping chases look easy, and finding, in his own words, the safest possible way to score runs. Plenty of them.\n",
      "\n",
      "This ambition transferred seamlessly to his captaincy: he demanded more than ever of his bowlers especially the quick ones, often sacrificed a batsman for bowling depth, and led India to a long stay at No. 1 in Test rankings and a first-ever series win in Australia. He is well on his way to end up as India's most successful Test captain.\n",
      "\n",
      "Barring one in Bangladesh, Kohli scored Test hundreds in and against every country he played. He absolutely smashed records for number of matches taken to reach eight, nine, ten and eleven thousand ODI runs, and became the first batter to score 50 hundreds in one-day internationals.\n",
      "\n",
      "An Under-19 world Cup-winning captain, when he burst onto the scene, Kohli was a precocious talent with a cover drive to kill for. He was destined to be India's next big batsman as the Tendulkar era began to retire, but Kohli wanted to be more: a cricketer whom the opposition would be in awe of, a cricketer whose presence would raise the intensity of the contest. He lived every ball, competed each moment, and made sure he had the fitness and strength to do so. He was widely credited for changing the fitness culture in Indian cricket, introducing endurance tests as a criterion for selection.\n",
      "\n",
      "Kohli was quite simply India's most powerful captain. Centre of every marketing campaign for Indian cricket, he also happened to lead at a time when the BCCI was run by interim administrators who knew better than to draw the ire of Indian cricket's biggest star. There was never any cause to doubt his intent: to do things that will win matches for India, which they did plenty under him.\n"
     ]
    }
   ],
   "source": [
    "fd = open(\"Sample.txt\",'r')\n",
    "txt = fd.read()\n",
    "print(txt)\n",
    "fd.close()"
   ]
  },
  {
   "cell_type": "markdown",
   "id": "c037b593-620a-4428-879c-05a331c95483",
   "metadata": {
    "jp-MarkdownHeadingCollapsed": true
   },
   "source": [
    "## Corpus"
   ]
  },
  {
   "cell_type": "code",
   "execution_count": 2,
   "id": "4f820ee2-6bde-4814-81d7-8e8c57aef32f",
   "metadata": {},
   "outputs": [
    {
     "data": {
      "text/plain": [
       "\"1) This is a text file with multiple lines \\n2) first line\\n3) second line\\n4) third line\\n5) fourth line\\n\\nVirat Kohli player profile\\n\\nIndia has given to the world many a great cricketer but perhaps none as ambitious as Virat Kohli. To meet his ambition, Kohli employed the technical assiduousness of Sachin Tendulkar and fitness that was in the league of top athletes in the world, not just cricketers. As a result, Kohli became the most consistent all-format accumulator of his time, making jaw-dropping chases look easy, and finding, in his own words, the safest possible way to score runs. Plenty of them.\\n\\nThis ambition transferred seamlessly to his captaincy: he demanded more than ever of his bowlers especially the quick ones, often sacrificed a batsman for bowling depth, and led India to a long stay at No. 1 in Test rankings and a first-ever series win in Australia. He is well on his way to end up as India's most successful Test captain.\\n\\nBarring one in Bangladesh, Kohli scored Test hundreds in and against every country he played. He absolutely smashed records for number of matches taken to reach eight, nine, ten and eleven thousand ODI runs, and became the first batter to score 50 hundreds in one-day internationals.\\n\\nAn Under-19 world Cup-winning captain, when he burst onto the scene, Kohli was a precocious talent with a cover drive to kill for. He was destined to be India's next big batsman as the Tendulkar era began to retire, but Kohli wanted to be more: a cricketer whom the opposition would be in awe of, a cricketer whose presence would raise the intensity of the contest. He lived every ball, competed each moment, and made sure he had the fitness and strength to do so. He was widely credited for changing the fitness culture in Indian cricket, introducing endurance tests as a criterion for selection.\\n\\nKohli was quite simply India's most powerful captain. Centre of every marketing campaign for Indian cricket, he also happened to lead at a time when the BCCI was run by interim administrators who knew better than to draw the ire of Indian cricket's biggest star. There was never any cause to doubt his intent: to do things that will win matches for India, which they did plenty under him.\""
      ]
     },
     "execution_count": 2,
     "metadata": {},
     "output_type": "execute_result"
    }
   ],
   "source": [
    "txt"
   ]
  },
  {
   "cell_type": "markdown",
   "id": "d69c75b6-5098-478a-bbc3-a1e2c803e7b8",
   "metadata": {
    "jp-MarkdownHeadingCollapsed": true
   },
   "source": [
    "### No of Peragraphs"
   ]
  },
  {
   "cell_type": "code",
   "execution_count": 4,
   "id": "3d0a62d3-f11b-4b9c-b3c4-106a26bab6ec",
   "metadata": {},
   "outputs": [
    {
     "name": "stdout",
     "output_type": "stream",
     "text": [
      "7\n"
     ]
    }
   ],
   "source": [
    "per = txt.split(\"\\n\\n\")\n",
    "#per\n",
    "print(len(per))"
   ]
  },
  {
   "cell_type": "markdown",
   "id": "847940cc-70ab-4caa-ad36-a501eb9a4dd8",
   "metadata": {
    "jp-MarkdownHeadingCollapsed": true
   },
   "source": [
    "### No of Lines"
   ]
  },
  {
   "cell_type": "code",
   "execution_count": 8,
   "id": "043a1bad-ca01-4740-a494-a904a031133e",
   "metadata": {},
   "outputs": [
    {
     "name": "stdout",
     "output_type": "stream",
     "text": [
      "16\n"
     ]
    }
   ],
   "source": [
    "lines = txt.split(\".\")\n",
    "print(len(lines[:-1]))    # :-1 as last line contains ''"
   ]
  },
  {
   "cell_type": "markdown",
   "id": "a2008125-1edc-4f1f-8519-68c526acf519",
   "metadata": {
    "jp-MarkdownHeadingCollapsed": true
   },
   "source": [
    "### No of Words"
   ]
  },
  {
   "cell_type": "code",
   "execution_count": 14,
   "id": "6bdfcbf5-f3dd-43c9-97cb-91b1f58cb1ec",
   "metadata": {},
   "outputs": [
    {
     "data": {
      "text/plain": [
       "['1)',\n",
       " 'This',\n",
       " 'is',\n",
       " 'a',\n",
       " 'text',\n",
       " 'file',\n",
       " 'with',\n",
       " 'multiple',\n",
       " 'lines',\n",
       " '\\n2)',\n",
       " 'first',\n",
       " 'line\\n3)',\n",
       " 'second',\n",
       " 'line\\n4)',\n",
       " 'third',\n",
       " 'line\\n5)',\n",
       " 'fourth',\n",
       " 'line\\n\\nVirat',\n",
       " 'Kohli',\n",
       " 'player',\n",
       " 'profile\\n\\nIndia',\n",
       " 'has',\n",
       " 'given',\n",
       " 'to',\n",
       " 'the',\n",
       " 'world',\n",
       " 'many',\n",
       " 'a',\n",
       " 'great',\n",
       " 'cricketer',\n",
       " 'but',\n",
       " 'perhaps',\n",
       " 'none',\n",
       " 'as',\n",
       " 'ambitious',\n",
       " 'as',\n",
       " 'Virat',\n",
       " 'Kohli.',\n",
       " 'To',\n",
       " 'meet',\n",
       " 'his',\n",
       " 'ambition,',\n",
       " 'Kohli',\n",
       " 'employed',\n",
       " 'the',\n",
       " 'technical',\n",
       " 'assiduousness',\n",
       " 'of',\n",
       " 'Sachin',\n",
       " 'Tendulkar',\n",
       " 'and',\n",
       " 'fitness',\n",
       " 'that',\n",
       " 'was',\n",
       " 'in',\n",
       " 'the',\n",
       " 'league',\n",
       " 'of',\n",
       " 'top',\n",
       " 'athletes',\n",
       " 'in',\n",
       " 'the',\n",
       " 'world,',\n",
       " 'not',\n",
       " 'just',\n",
       " 'cricketers.',\n",
       " 'As',\n",
       " 'a',\n",
       " 'result,',\n",
       " 'Kohli',\n",
       " 'became',\n",
       " 'the',\n",
       " 'most',\n",
       " 'consistent',\n",
       " 'all-format',\n",
       " 'accumulator',\n",
       " 'of',\n",
       " 'his',\n",
       " 'time,',\n",
       " 'making',\n",
       " 'jaw-dropping',\n",
       " 'chases',\n",
       " 'look',\n",
       " 'easy,',\n",
       " 'and',\n",
       " 'finding,',\n",
       " 'in',\n",
       " 'his',\n",
       " 'own',\n",
       " 'words,',\n",
       " 'the',\n",
       " 'safest',\n",
       " 'possible',\n",
       " 'way',\n",
       " 'to',\n",
       " 'score',\n",
       " 'runs.',\n",
       " 'Plenty',\n",
       " 'of',\n",
       " 'them.\\n\\nThis',\n",
       " 'ambition',\n",
       " 'transferred',\n",
       " 'seamlessly',\n",
       " 'to',\n",
       " 'his',\n",
       " 'captaincy:',\n",
       " 'he',\n",
       " 'demanded',\n",
       " 'more',\n",
       " 'than',\n",
       " 'ever',\n",
       " 'of',\n",
       " 'his',\n",
       " 'bowlers',\n",
       " 'especially',\n",
       " 'the',\n",
       " 'quick',\n",
       " 'ones,',\n",
       " 'often',\n",
       " 'sacrificed',\n",
       " 'a',\n",
       " 'batsman',\n",
       " 'for',\n",
       " 'bowling',\n",
       " 'depth,',\n",
       " 'and',\n",
       " 'led',\n",
       " 'India',\n",
       " 'to',\n",
       " 'a',\n",
       " 'long',\n",
       " 'stay',\n",
       " 'at',\n",
       " 'No.',\n",
       " '1',\n",
       " 'in',\n",
       " 'Test',\n",
       " 'rankings',\n",
       " 'and',\n",
       " 'a',\n",
       " 'first-ever',\n",
       " 'series',\n",
       " 'win',\n",
       " 'in',\n",
       " 'Australia.',\n",
       " 'He',\n",
       " 'is',\n",
       " 'well',\n",
       " 'on',\n",
       " 'his',\n",
       " 'way',\n",
       " 'to',\n",
       " 'end',\n",
       " 'up',\n",
       " 'as',\n",
       " \"India's\",\n",
       " 'most',\n",
       " 'successful',\n",
       " 'Test',\n",
       " 'captain.\\n\\nBarring',\n",
       " 'one',\n",
       " 'in',\n",
       " 'Bangladesh,',\n",
       " 'Kohli',\n",
       " 'scored',\n",
       " 'Test',\n",
       " 'hundreds',\n",
       " 'in',\n",
       " 'and',\n",
       " 'against',\n",
       " 'every',\n",
       " 'country',\n",
       " 'he',\n",
       " 'played.',\n",
       " 'He',\n",
       " 'absolutely',\n",
       " 'smashed',\n",
       " 'records',\n",
       " 'for',\n",
       " 'number',\n",
       " 'of',\n",
       " 'matches',\n",
       " 'taken',\n",
       " 'to',\n",
       " 'reach',\n",
       " 'eight,',\n",
       " 'nine,',\n",
       " 'ten',\n",
       " 'and',\n",
       " 'eleven',\n",
       " 'thousand',\n",
       " 'ODI',\n",
       " 'runs,',\n",
       " 'and',\n",
       " 'became',\n",
       " 'the',\n",
       " 'first',\n",
       " 'batter',\n",
       " 'to',\n",
       " 'score',\n",
       " '50',\n",
       " 'hundreds',\n",
       " 'in',\n",
       " 'one-day',\n",
       " 'internationals.\\n\\nAn',\n",
       " 'Under-19',\n",
       " 'world',\n",
       " 'Cup-winning',\n",
       " 'captain,',\n",
       " 'when',\n",
       " 'he',\n",
       " 'burst',\n",
       " 'onto',\n",
       " 'the',\n",
       " 'scene,',\n",
       " 'Kohli',\n",
       " 'was',\n",
       " 'a',\n",
       " 'precocious',\n",
       " 'talent',\n",
       " 'with',\n",
       " 'a',\n",
       " 'cover',\n",
       " 'drive',\n",
       " 'to',\n",
       " 'kill',\n",
       " 'for.',\n",
       " 'He',\n",
       " 'was',\n",
       " 'destined',\n",
       " 'to',\n",
       " 'be',\n",
       " \"India's\",\n",
       " 'next',\n",
       " 'big',\n",
       " 'batsman',\n",
       " 'as',\n",
       " 'the',\n",
       " 'Tendulkar',\n",
       " 'era',\n",
       " 'began',\n",
       " 'to',\n",
       " 'retire,',\n",
       " 'but',\n",
       " 'Kohli',\n",
       " 'wanted',\n",
       " 'to',\n",
       " 'be',\n",
       " 'more:',\n",
       " 'a',\n",
       " 'cricketer',\n",
       " 'whom',\n",
       " 'the',\n",
       " 'opposition',\n",
       " 'would',\n",
       " 'be',\n",
       " 'in',\n",
       " 'awe',\n",
       " 'of,',\n",
       " 'a',\n",
       " 'cricketer',\n",
       " 'whose',\n",
       " 'presence',\n",
       " 'would',\n",
       " 'raise',\n",
       " 'the',\n",
       " 'intensity',\n",
       " 'of',\n",
       " 'the',\n",
       " 'contest.',\n",
       " 'He',\n",
       " 'lived',\n",
       " 'every',\n",
       " 'ball,',\n",
       " 'competed',\n",
       " 'each',\n",
       " 'moment,',\n",
       " 'and',\n",
       " 'made',\n",
       " 'sure',\n",
       " 'he',\n",
       " 'had',\n",
       " 'the',\n",
       " 'fitness',\n",
       " 'and',\n",
       " 'strength',\n",
       " 'to',\n",
       " 'do',\n",
       " 'so.',\n",
       " 'He',\n",
       " 'was',\n",
       " 'widely',\n",
       " 'credited',\n",
       " 'for',\n",
       " 'changing',\n",
       " 'the',\n",
       " 'fitness',\n",
       " 'culture',\n",
       " 'in',\n",
       " 'Indian',\n",
       " 'cricket,',\n",
       " 'introducing',\n",
       " 'endurance',\n",
       " 'tests',\n",
       " 'as',\n",
       " 'a',\n",
       " 'criterion',\n",
       " 'for',\n",
       " 'selection.\\n\\nKohli',\n",
       " 'was',\n",
       " 'quite',\n",
       " 'simply',\n",
       " \"India's\",\n",
       " 'most',\n",
       " 'powerful',\n",
       " 'captain.',\n",
       " 'Centre',\n",
       " 'of',\n",
       " 'every',\n",
       " 'marketing',\n",
       " 'campaign',\n",
       " 'for',\n",
       " 'Indian',\n",
       " 'cricket,',\n",
       " 'he',\n",
       " 'also',\n",
       " 'happened',\n",
       " 'to',\n",
       " 'lead',\n",
       " 'at',\n",
       " 'a',\n",
       " 'time',\n",
       " 'when',\n",
       " 'the',\n",
       " 'BCCI',\n",
       " 'was',\n",
       " 'run',\n",
       " 'by',\n",
       " 'interim',\n",
       " 'administrators',\n",
       " 'who',\n",
       " 'knew',\n",
       " 'better',\n",
       " 'than',\n",
       " 'to',\n",
       " 'draw',\n",
       " 'the',\n",
       " 'ire',\n",
       " 'of',\n",
       " 'Indian',\n",
       " \"cricket's\",\n",
       " 'biggest',\n",
       " 'star.',\n",
       " 'There',\n",
       " 'was',\n",
       " 'never',\n",
       " 'any',\n",
       " 'cause',\n",
       " 'to',\n",
       " 'doubt',\n",
       " 'his',\n",
       " 'intent:',\n",
       " 'to',\n",
       " 'do',\n",
       " 'things',\n",
       " 'that',\n",
       " 'will',\n",
       " 'win',\n",
       " 'matches',\n",
       " 'for',\n",
       " 'India,',\n",
       " 'which',\n",
       " 'they',\n",
       " 'did',\n",
       " 'plenty',\n",
       " 'under',\n",
       " 'him.']"
      ]
     },
     "execution_count": 14,
     "metadata": {},
     "output_type": "execute_result"
    }
   ],
   "source": [
    "words = txt.split(\" \")\n",
    "words"
   ]
  },
  {
   "cell_type": "code",
   "execution_count": 15,
   "id": "e166aec5-235e-4f71-9e5b-6604ef30b744",
   "metadata": {},
   "outputs": [
    {
     "data": {
      "text/plain": [
       "377"
      ]
     },
     "execution_count": 15,
     "metadata": {},
     "output_type": "execute_result"
    }
   ],
   "source": [
    "len(words)"
   ]
  },
  {
   "cell_type": "markdown",
   "id": "18527468-7e45-4f9c-bd2d-e8c48c32fe81",
   "metadata": {
    "jp-MarkdownHeadingCollapsed": true
   },
   "source": [
    "### Replace"
   ]
  },
  {
   "cell_type": "code",
   "execution_count": 16,
   "id": "ea9916f8-75a5-4e13-b1c7-86e055064e0d",
   "metadata": {},
   "outputs": [],
   "source": [
    "for i in \"!@#$%&\":\n",
    "    txt = txt.replace(i,\"\")"
   ]
  },
  {
   "cell_type": "markdown",
   "id": "b5828a4d-158d-4ccb-9ace-949971a11677",
   "metadata": {},
   "source": [
    "## Writing Text to File"
   ]
  },
  {
   "cell_type": "markdown",
   "id": "590e5c14-4bd2-4ec0-95af-900df2d7be63",
   "metadata": {
    "jp-MarkdownHeadingCollapsed": true
   },
   "source": [
    "### Write Mode"
   ]
  },
  {
   "cell_type": "code",
   "execution_count": 19,
   "id": "1725e17b-52c4-4402-b2ec-b0a7b59bc8d0",
   "metadata": {},
   "outputs": [],
   "source": [
    "fd = open(\"Data.txt\",\"w\")\n",
    "# fd.write(\"Hey!, Sanket This side\")\n",
    "fd.write(\"whatever we write new , gets overwritten in the file and old data is overwritten\")\n",
    "fd.close()"
   ]
  },
  {
   "cell_type": "markdown",
   "id": "637e6024-3ebe-40da-809f-f62e1273dbb1",
   "metadata": {
    "jp-MarkdownHeadingCollapsed": true
   },
   "source": [
    "### Append Mode"
   ]
  },
  {
   "cell_type": "code",
   "execution_count": 21,
   "id": "2d50eb6b-7ccb-40ce-8cc1-e03d3434977a",
   "metadata": {},
   "outputs": [],
   "source": [
    "fd = open(\"Data.txt\", \"a\")\n",
    "fd.write(\"Will get Appended in same line\")\n",
    "fd.close()"
   ]
  },
  {
   "cell_type": "code",
   "execution_count": 23,
   "id": "d42bd88c-1383-43af-8a6c-172262030b34",
   "metadata": {},
   "outputs": [
    {
     "name": "stdin",
     "output_type": "stream",
     "text": [
      "Enter text: I am Fine , What about you?\n"
     ]
    }
   ],
   "source": [
    "# for new line need to specify '\\n'\n",
    "fd = open(\"Data.txt\",\"a\")\n",
    "str = input(\"Enter text:\")\n",
    "str = str + \".\\n\"\n",
    "fd.write(str)\n",
    "fd.close()"
   ]
  }
 ],
 "metadata": {
  "kernelspec": {
   "display_name": "Python 3 (ipykernel)",
   "language": "python",
   "name": "python3"
  },
  "language_info": {
   "codemirror_mode": {
    "name": "ipython",
    "version": 3
   },
   "file_extension": ".py",
   "mimetype": "text/x-python",
   "name": "python",
   "nbconvert_exporter": "python",
   "pygments_lexer": "ipython3",
   "version": "3.12.4"
  }
 },
 "nbformat": 4,
 "nbformat_minor": 5
}
