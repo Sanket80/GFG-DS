{
 "cells": [
  {
   "cell_type": "code",
   "execution_count": 2,
   "id": "37dff439-68ff-43ab-8d04-4e6c06b4efeb",
   "metadata": {},
   "outputs": [],
   "source": [
    "fd = open(\"Inventory.txt\",'w')\n",
    "fd.close()"
   ]
  },
  {
   "cell_type": "markdown",
   "id": "5ab4a939-ad26-41cd-a38e-799231f92ced",
   "metadata": {},
   "source": [
    "#### Product Details\n",
    "##### 1.Product Id\n",
    "##### 2.Name of the product\n",
    "##### 3.Price of the product\n",
    "##### 4.Quantity "
   ]
  },
  {
   "cell_type": "code",
   "execution_count": 3,
   "id": "9c2d2f55-7a31-4eec-b321-c1af976a88d3",
   "metadata": {},
   "outputs": [
    {
     "name": "stdout",
     "output_type": "stream",
     "text": [
      "1,5 Star,5,200\n",
      "2,Milk,50,30\n",
      "3,Soap,60,100\n",
      "4,Cake,400,20\n"
     ]
    }
   ],
   "source": [
    "fd = open(\"Inventory.txt\",'r')\n",
    "txt = fd.read()\n",
    "print(txt)\n",
    "fd.close()"
   ]
  },
  {
   "cell_type": "code",
   "execution_count": 6,
   "id": "04d61244-b9bb-4050-b51a-2bde45a3d80c",
   "metadata": {},
   "outputs": [
    {
     "data": {
      "text/plain": [
       "['1,5 Star,5,200', '2,Milk,50,30', '3,Soap,60,100', '4,Cake,400,20']"
      ]
     },
     "execution_count": 6,
     "metadata": {},
     "output_type": "execute_result"
    }
   ],
   "source": [
    "txt.split(\"\\n\")"
   ]
  },
  {
   "cell_type": "code",
   "execution_count": 8,
   "id": "6656324f-da73-4f9f-9e6a-4119abffebff",
   "metadata": {},
   "outputs": [],
   "source": [
    "fd = open(\"Inventory.txt\",'r')\n",
    "products = fd.read().split(\"\\n\")\n",
    "fd.close()"
   ]
  },
  {
   "cell_type": "code",
   "execution_count": 10,
   "id": "098ddbfc-aeb7-44f6-8af0-bc24a06e9d30",
   "metadata": {},
   "outputs": [
    {
     "name": "stdout",
     "output_type": "stream",
     "text": [
      "['1', '5 Star', '5', '200']\n",
      "['2', 'Milk', '50', '30']\n",
      "['3', 'Soap', '60', '100']\n",
      "['4', 'Cake', '400', '20']\n"
     ]
    }
   ],
   "source": [
    "for product in products:\n",
    "    print(product.split(\",\"))"
   ]
  },
  {
   "cell_type": "code",
   "execution_count": 12,
   "id": "851b7842-ca75-4fcb-a538-c5c1912e34ee",
   "metadata": {},
   "outputs": [
    {
     "name": "stdin",
     "output_type": "stream",
     "text": [
      "Enter Product ID: 2\n"
     ]
    },
    {
     "name": "stdout",
     "output_type": "stream",
     "text": [
      "2,Milk,50,30\n"
     ]
    }
   ],
   "source": [
    "product_id = input(\"Enter Product ID:\")\n",
    "\n",
    "for product in products:\n",
    "    if(product.split(\",\")[0] == product_id):\n",
    "        print(product)"
   ]
  },
  {
   "cell_type": "code",
   "execution_count": 17,
   "id": "003b9ac3-2e0b-4099-bc10-e6c3e054b02d",
   "metadata": {},
   "outputs": [
    {
     "name": "stdin",
     "output_type": "stream",
     "text": [
      "Enter Product ID: 1\n",
      "Enter Product Quantity: 1\n"
     ]
    },
    {
     "name": "stdout",
     "output_type": "stream",
     "text": [
      "----------------------------------\n",
      "Product Name       : prod_details[1]\n",
      "Price              : prod_details[2]\n",
      "Quantity           : prod_details[3]\n",
      "----------------------------------\n",
      "Billing Amt        :  5\n",
      "----------------------------------\n",
      "['1', '5 Star', '5', '199']\n",
      "['2', 'Milk', '50', '30']\n",
      "['3', 'Soap', '60', '100']\n",
      "['4', 'Cake', '400', '20']\n"
     ]
    }
   ],
   "source": [
    "product_id = input(\"Enter Product ID:\")\n",
    "product_qn = input(\"Enter Product Quantity:\")\n",
    "\n",
    "for product in products:\n",
    "    prod_details = product.split(\",\")\n",
    "\n",
    "    if(prod_details[0] == product_id):\n",
    "        print(\"----------------------------------\")\n",
    "        print(\"Product Name       : prod_details[1]\")\n",
    "        print(\"Price              : prod_details[2]\")\n",
    "        print(\"Quantity           : prod_details[3]\")\n",
    "        print(\"----------------------------------\")\n",
    "        print(\"Billing Amt        : \",int(product_qn) * int(prod_details[2]))\n",
    "        print(\"----------------------------------\")\n",
    "        prod_details[3] = str(int(prod_details[3]) - int(product_qn))\n",
    "    print(prod_details)"
   ]
  },
  {
   "cell_type": "code",
   "execution_count": 16,
   "id": "7d26bda1-e364-419f-aca6-b15038271427",
   "metadata": {},
   "outputs": [
    {
     "name": "stdout",
     "output_type": "stream",
     "text": [
      "['4', 'Cake', '400', '20']\n"
     ]
    }
   ],
   "source": []
  }
 ],
 "metadata": {
  "kernelspec": {
   "display_name": "Python 3 (ipykernel)",
   "language": "python",
   "name": "python3"
  },
  "language_info": {
   "codemirror_mode": {
    "name": "ipython",
    "version": 3
   },
   "file_extension": ".py",
   "mimetype": "text/x-python",
   "name": "python",
   "nbconvert_exporter": "python",
   "pygments_lexer": "ipython3",
   "version": "3.12.4"
  }
 },
 "nbformat": 4,
 "nbformat_minor": 5
}
